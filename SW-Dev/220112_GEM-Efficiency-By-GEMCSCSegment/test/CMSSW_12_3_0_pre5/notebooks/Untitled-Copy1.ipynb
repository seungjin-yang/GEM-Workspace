{
 "cells": [
  {
   "cell_type": "code",
   "execution_count": 1,
   "metadata": {},
   "outputs": [
    {
     "name": "stdout",
     "output_type": "stream",
     "text": [
      "Welcome to JupyROOT 6.24/06\n"
     ]
    }
   ],
   "source": [
    "import ROOT\n",
    "from ROOT import gPad, gStyle\n",
    "import uuid"
   ]
  },
  {
   "cell_type": "code",
   "execution_count": 2,
   "metadata": {},
   "outputs": [],
   "source": [
    "MEM = []"
   ]
  },
  {
   "cell_type": "code",
   "execution_count": 3,
   "metadata": {},
   "outputs": [],
   "source": [
    "def make_eff(input_dir, key):\n",
    "    h_den = input_dir.Get(key)\n",
    "    h_num = input_dir.Get(key + '_matched')\n",
    "    eff = ROOT.TEfficiency(h_num, h_den)\n",
    "    global MEM\n",
    "    MEM += [eff]\n",
    "    return eff"
   ]
  },
  {
   "cell_type": "code",
   "execution_count": 1,
   "metadata": {},
   "outputs": [
    {
     "ename": "NameError",
     "evalue": "name 'gStyle' is not defined",
     "output_type": "error",
     "traceback": [
      "\u001b[0;31m---------------------------------------------------------------------------\u001b[0m",
      "\u001b[0;31mNameError\u001b[0m                                 Traceback (most recent call last)",
      "\u001b[0;32m<ipython-input-1-235e2cc34229>\u001b[0m in \u001b[0;36m<module>\u001b[0;34m\u001b[0m\n\u001b[0;32m----> 1\u001b[0;31m \u001b[0mgStyle\u001b[0m\u001b[0;34m.\u001b[0m\u001b[0mSetOptStat\u001b[0m\u001b[0;34m(\u001b[0m\u001b[0;36m0\u001b[0m\u001b[0;34m)\u001b[0m\u001b[0;34m\u001b[0m\u001b[0;34m\u001b[0m\u001b[0m\n\u001b[0m",
      "\u001b[0;31mNameError\u001b[0m: name 'gStyle' is not defined"
     ]
    }
   ],
   "source": [
    "gStyle.SetOptStat(0)"
   ]
  },
  {
   "cell_type": "code",
   "execution_count": null,
   "metadata": {},
   "outputs": [],
   "source": [
    "path = '../UndergroundCosmicMuME11At0T+2021/DQM_V0001_R000000001__Global__CMSSW_X_Y_Z__RECO.root'\n",
    "# path = '../CMSSW_12_3_0_pre5__fullsim_PU_2021_14TeV-ZMM_14-00002/DQM_V0001_R000000001__Global__CMSSW_X_Y_Z__RECO.root'\n",
    "# path = '../EightMu_Pt-0-200_Eta-GE11+2021/DQM_V0001_R000000001__Global__CMSSW_X_Y_Z__RECO.root'\n",
    "# path = '../CMSSW_12_3_0_pre5__PDMVRELVALS-109_CosmicRun-PromptCosmics-00001/DQM_V0001_R000343498__Global__CMSSW_X_Y_Z__RECO.root'"
   ]
  },
  {
   "cell_type": "code",
   "execution_count": 8,
   "metadata": {},
   "outputs": [
    {
     "name": "stdout",
     "output_type": "stream",
     "text": [
      "TDirectoryFile*\t\tRun summary\tRun summary\n",
      " KEY: TDirectoryFile\tEfficiency;1\tEfficiency\n",
      " KEY: TDirectoryFile\tEventInfo;1\tEventInfo\n",
      "TDirectoryFile*\t\tEfficiency\tEfficiency\n",
      " KEY: TDirectoryFile\tGEMCSCSegment;1\tGEMCSCSegment\n",
      " KEY: TDirectoryFile\tGLBMuon;1\tGLBMuon\n",
      " KEY: TDirectoryFile\tSTAMuon;1\tSTAMuon\n",
      " KEY: TDirectoryFile\tTRKMuon;1\tTRKMuon\n"
     ]
    }
   ],
   "source": [
    "root_file = ROOT.TFile(path)\n",
    "\n",
    "gem_dir = root_file.Get('DQMData/Run 1/GEM/Run summary')\n",
    "gem_dir.ls()\n",
    "\n",
    "eff_dir = gem_dir.Get('Efficiency')\n",
    "eff_dir.ls()\n",
    "\n",
    "gemcsc_dir = eff_dir.Get('GEMCSCSegment')\n",
    "glb_dir = eff_dir.Get('GLBMuon')\n",
    "sta_dir = eff_dir.Get('STAMuon')\n",
    "trk_dir = eff_dir.Get('TRKMuon')"
   ]
  },
  {
   "cell_type": "code",
   "execution_count": 9,
   "metadata": {},
   "outputs": [
    {
     "data": {
      "image/png": "[encoded data removed]",
      "text/plain": [
       "<IPython.core.display.Image object>"
      ]
     },
     "metadata": {},
     "output_type": "display_data"
    }
   ],
   "source": [
    "c = ROOT.TCanvas(f'c-{uuid.uuid4()}', '', 500, 500)\n",
    "c.cd()\n",
    "eff = make_eff(gemcsc_dir, 'Efficiency/chamber_GE11-M-L1')\n",
    "muon_eff = make_eff(gemcsc_dir, 'Efficiency/muon_chamber_GE11-M-L1')\n",
    "eff.Draw()\n",
    "muon_eff.Draw('SAME')\n",
    "eff.SetLineColor(ROOT.kBlue)\n",
    "muon_eff.SetLineColor(ROOT.kRed)\n",
    "c.Draw()"
   ]
  },
  {
   "cell_type": "code",
   "execution_count": 10,
   "metadata": {},
   "outputs": [
    {
     "name": "stdout",
     "output_type": "stream",
     "text": [
      "TDirectoryFile*\t\tMisc\tMisc\n",
      " KEY: TH1F\tall_abs_rdphi;1\t\n",
      " KEY: TH1F\tprop_chamber_GE11-M;1\t GE11-M\n",
      " KEY: TH1F\tprop_chamber_GE11-P;1\t GE11-P\n",
      " KEY: TH1F\tprop_err_phi_GE11-M;1\t GE11-M\n",
      " KEY: TH1F\tprop_err_phi_GE11-M_matched;1\t GE11-M\n",
      " KEY: TH1F\tprop_err_phi_GE11-P;1\t GE11-P\n",
      " KEY: TH1F\tprop_err_phi_GE11-P_matched;1\t GE11-P\n",
      " KEY: TH1F\tprop_err_r_GE11-M;1\t GE11-M\n",
      " KEY: TH1F\tprop_err_r_GE11-M_matched;1\t GE11-M\n",
      " KEY: TH1F\tprop_err_r_GE11-P;1\t GE11-P\n",
      " KEY: TH1F\tprop_err_r_GE11-P_matched;1\t GE11-P\n",
      " KEY: TH1F\tstart_det_GE11-M;1\t GE11-M\n",
      " KEY: TH1F\tstart_det_GE11-M_matched;1\t GE11-M\n",
      " KEY: TH1F\tstart_det_GE11-P;1\t GE11-P\n",
      " KEY: TH1F\tstart_det_GE11-P_matched;1\t GE11-P\n"
     ]
    }
   ],
   "source": [
    "glb_dir.Get('Misc').ls()"
   ]
  },
  {
   "cell_type": "code",
   "execution_count": null,
   "metadata": {},
   "outputs": [],
   "source": []
  },
  {
   "cell_type": "code",
   "execution_count": null,
   "metadata": {},
   "outputs": [],
   "source": []
  }
 ],
 "metadata": {
  "kernelspec": {
   "display_name": "Python 3",
   "language": "python",
   "name": "python3"
  },
  "language_info": {
   "codemirror_mode": {
    "name": "ipython",
    "version": 3
   },
   "file_extension": ".py",
   "mimetype": "text/x-python",
   "name": "python",
   "nbconvert_exporter": "python",
   "pygments_lexer": "ipython3",
   "version": "3.6.8"
  }
 },
 "nbformat": 4,
 "nbformat_minor": 4
}
