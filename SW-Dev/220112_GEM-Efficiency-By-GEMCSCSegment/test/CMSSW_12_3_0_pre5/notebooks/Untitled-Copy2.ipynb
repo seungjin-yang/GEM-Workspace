{
 "cells": [
  {
   "cell_type": "code",
   "execution_count": 11,
   "metadata": {},
   "outputs": [],
   "source": [
    "%matplotlib inline\n",
    "import uproot\n",
    "import numpy as np\n",
    "import matplotlib.pyplot as plt\n",
    "from hist import intervals"
   ]
  },
  {
   "cell_type": "code",
   "execution_count": 25,
   "metadata": {},
   "outputs": [],
   "source": [
    "class Efficiency:\n",
    "    def __init__(self, num, denom, coverage=0.683):\n",
    "        self.efficiency = num.values() / denom.values()\n",
    "        self.lower_bound, self.upper_bound = intervals.clopper_pearson_interval(\n",
    "            num.values(), denom.values(), coverage)\n",
    "        self.low_error = self.efficiency - self.lower_bound\n",
    "        self.high_error = self.upper_bound - self.efficiency\n",
    "\n",
    "        edges = denom.axes[0].edges\n",
    "        self.bin_centers = (edges[:-1] + edges[1:]) / 2\n",
    "        self.bin_width = (edges[1:] - edges[:-1]) / 2\n",
    "\n",
    "        self.num = num\n",
    "        self.denom = denom\n",
    "\n",
    "    @property\n",
    "    def value(self):\n",
    "        return self.efficiency\n",
    "\n",
    "    @property\n",
    "    def x(self):\n",
    "        return self.bin_centers\n",
    "\n",
    "    @property\n",
    "    def error(self):\n",
    "        return [self.low_error, self.high_error]\n",
    "\n",
    "    @classmethod\n",
    "    def from_data(cls, data, selection, h_args, is_reg=True, coverage=0.683):\n",
    "        constructor = Hist.new.Reg if is_reg else Hist.new.Var\n",
    "        denom = constructor(*h_args).Int64()\n",
    "        num = constructor(*h_args).Int64()\n",
    "        denom.fill(data)\n",
    "        num.fill(data[selection])\n",
    "        return cls(num, denom)\n",
    "\n",
    "    def plot(self, ax=None, yerr=True, xerr=False, **kwargs):\n",
    "        if ax is None:\n",
    "            ax = plt.gca()\n",
    "\n",
    "        yerr = self.error if yerr else None\n",
    "        xerr = self.bin_width if xerr else None\n",
    "\n",
    "        return ax.errorbar(x=self.x, y=self.value, yerr=yerr, xerr=xerr, **kwargs)\n"
   ]
  },
  {
   "cell_type": "code",
   "execution_count": 2,
   "metadata": {},
   "outputs": [],
   "source": [
    "path = '../UndergroundCosmicMuME11At0T+2021/DQM_V0001_R000000001__Global__CMSSW_X_Y_Z__RECO.root'\n",
    "# path = '../CMSSW_12_3_0_pre5__fullsim_PU_2021_14TeV-ZMM_14-00002/DQM_V0001_R000000001__Global__CMSSW_X_Y_Z__RECO.root'\n",
    "# path = '../EightMu_Pt-0-200_Eta-GE11+2021/DQM_V0001_R000000001__Global__CMSSW_X_Y_Z__RECO.root'\n",
    "# path = '../CMSSW_12_3_0_pre5__PDMVRELVALS-109_CosmicRun-PromptCosmics-00001/DQM_V0001_R000343498__Global__CMSSW_X_Y_Z__RECO.root'"
   ]
  },
  {
   "cell_type": "code",
   "execution_count": 3,
   "metadata": {},
   "outputs": [],
   "source": [
    "root_file = uproot.open(path)"
   ]
  },
  {
   "cell_type": "code",
   "execution_count": 9,
   "metadata": {},
   "outputs": [],
   "source": [
    "gem_dir = root_file['DQMData/Run 1/GEM/Run summary']\n",
    "eff_dir = gem_dir['Efficiency']\n",
    "gemcsc_dir = eff_dir['GEMCSCSegment']\n",
    "glb_dir = eff_dir['GLBMuon']\n",
    "sta_dir = eff_dir['STAMuon']\n",
    "trk_dir = eff_dir['TRKMuon']"
   ]
  },
  {
   "cell_type": "code",
   "execution_count": 14,
   "metadata": {},
   "outputs": [],
   "source": [
    "tdir = sta_dir\n",
    "denom = tdir['Efficiency/chamber_GE11-P-L1']\n",
    "num = tdir['Efficiency/chamber_GE11-P-L1_matched']"
   ]
  },
  {
   "cell_type": "code",
   "execution_count": 28,
   "metadata": {},
   "outputs": [
    {
     "name": "stderr",
     "output_type": "stream",
     "text": [
      "/usr/local/lib/python3.6/site-packages/ipykernel_launcher.py:3: RuntimeWarning: invalid value encountered in true_divide\n",
      "  This is separate from the ipykernel package so we can avoid doing imports until\n"
     ]
    }
   ],
   "source": [
    "eff = Efficiency(num=num, denom=denom)"
   ]
  },
  {
   "cell_type": "code",
   "execution_count": 30,
   "metadata": {},
   "outputs": [
    {
     "data": {
      "text/html": [
       "<html>\n",
       "<div style=\"display:flex; align-items:center;\">\n",
       "<div style=\"width:290px;\">\n",
       "<svg xmlns=\"http://www.w3.org/2000/svg\" viewBox=\"-10 -105 270 120\">\n",
       "<line x1=\"-5\" y1=\"0\" x2=\"255\" y2=\"0\" style=\"fill:none;stroke-width:2;stroke:currentColor\"/>\n",
       "<text text-anchor=\"middle\" x=\"0\" y=\"15\" style=\"fill:currentColor;\">\n",
       "0\n",
       "</text>\n",
       "<text text-anchor=\"middle\" x=\"250\" y=\"15\" style=\"fill:currentColor;\">\n",
       "36\n",
       "</text>\n",
       "<text text-anchor=\"middle\" x=\"125.0\" y=\"15\" style=\"fill:currentColor;\">\n",
       "Chamber\n",
       "</text>\n",
       "<polyline points=\"  0,0   0,-0 6.94444,-0 6.94444,-0 13.8889,-0 13.8889,-0 20.8333,-0 20.8333,-0 27.7778,-0 27.7778,-0 34.7222,-0 34.7222,-0 41.6667,-0 41.6667,-0 48.6111,-0 48.6111,-0 55.5556,-0 55.5556,-0 62.5,-0 62.5,-0 69.4444,-0 69.4444,-0 76.3889,-0 76.3889,-0 83.3333,-0 83.3333,-0 90.2778,-0 90.2778,-0 97.2222,-0 97.2222,-0 104.167,-0 104.167,-0 111.111,-0 111.111,-0 118.056,-0 118.056,-0 125,-0 125,-0 131.944,-0 131.944,-0 138.889,-0 138.889,-0 145.833,-0 145.833,-0 152.778,-0 152.778,-0 159.722,-0 159.722,-0 166.667,-0 166.667,-0 173.611,-0 173.611,-0 180.556,-0 180.556,-0 187.5,-0 187.5,-0 194.444,-0 194.444,-0 201.389,-0 201.389,-0 208.333,-0 208.333,-0 215.278,-0 215.278,-0 222.222,-0 222.222,-0 229.167,-0 229.167,-0 236.111,-0 236.111,-0 243.056,-0 243.056,-0 250,-0 250,0\" style=\"fill:none; stroke:currentColor;\"/>\n",
       "</svg>\n",
       "</div>\n",
       "<div style=\"flex=grow:1;\">\n",
       "StrCategory(['1', '2', '3', '4', '5', '6', '7', '8', '9', '10', '11', '12', '13', '14', '15', '16', '17', '18', '19', '20', '21', '22', '23', '24', '25', '26', '27', '28', '29', '30', '31', '32', '33', '34', '35', '36'], name='xaxis', label='Chamber')<br/>\n",
       "<hr style=\"margin-top:.2em; margin-bottom:.2em;\"/>\n",
       "Double() Σ=0.0\n",
       "\n",
       "</div>\n",
       "</div>\n",
       "</html>"
      ],
      "text/plain": [
       "Hist(StrCategory(['1', '2', '3', '4', '5', '6', '7', '8', '9', '10', '11', '12', '13', '14', '15', '16', '17', '18', '19', '20', '21', '22', '23', '24', '25', '26', '27', '28', '29', '30', '31', '32', '33', '34', '35', '36'], name='xaxis', label='Chamber'), storage=Double())"
      ]
     },
     "execution_count": 30,
     "metadata": {},
     "output_type": "execute_result"
    }
   ],
   "source": [
    "denom"
   ]
  },
  {
   "cell_type": "code",
   "execution_count": 33,
   "metadata": {},
   "outputs": [
    {
     "data": {
      "text/html": [
       "<html>\n",
       "<div style=\"display:flex; align-items:center;\">\n",
       "<div style=\"width:290px;\">\n",
       "<svg xmlns=\"http://www.w3.org/2000/svg\" viewBox=\"-10 -105 270 120\">\n",
       "<line x1=\"-5\" y1=\"0\" x2=\"255\" y2=\"0\" style=\"fill:none;stroke-width:2;stroke:currentColor\"/>\n",
       "<text text-anchor=\"middle\" x=\"0\" y=\"15\" style=\"fill:currentColor;\">\n",
       "0\n",
       "</text>\n",
       "<text text-anchor=\"middle\" x=\"250\" y=\"15\" style=\"fill:currentColor;\">\n",
       "10\n",
       "</text>\n",
       "<text text-anchor=\"middle\" x=\"125.0\" y=\"15\" style=\"fill:currentColor;\">\n",
       "Global #sigma_{R} [cm]\n",
       "</text>\n",
       "<polyline points=\"  0,0   0,-0 2.5,-0 2.5,-0   5,-0   5,-0 7.5,-0 7.5,-0  10,-0  10,-0 12.5,-0 12.5,-0  15,-0  15,-0 17.5,-0 17.5,-0  20,-0  20,-0 22.5,-0 22.5,-0  25,-0  25,-0 27.5,-0 27.5,-0  30,-0  30,-0 32.5,-0 32.5,-0  35,-0  35,-0 37.5,-0 37.5,-0  40,-0  40,-0 42.5,-0 42.5,-0  45,-0  45,-0 47.5,-0 47.5,-0  50,-0  50,-0 52.5,-0 52.5,-0  55,-0  55,-0 57.5,-0 57.5,-0  60,-0  60,-0 62.5,-0 62.5,-0  65,-0  65,-0 67.5,-0 67.5,-0  70,-0  70,-0 72.5,-0 72.5,-0  75,-0  75,-0 77.5,-0 77.5,-0  80,-0  80,-0 82.5,-0 82.5,-0  85,-0  85,-0 87.5,-0 87.5,-0  90,-0  90,-0 92.5,-0 92.5,-0  95,-0  95,-0 97.5,-0 97.5,-0 100,-0 100,-0 102.5,-0 102.5,-0 105,-0 105,-0 107.5,-0 107.5,-0 110,-0 110,-0 112.5,-0 112.5,-0 115,-0 115,-0 117.5,-0 117.5,-0 120,-0 120,-0 122.5,-0 122.5,-0 125,-0 125,-0 127.5,-0 127.5,-0 130,-0 130,-0 132.5,-0 132.5,-0 135,-0 135,-0 137.5,-0 137.5,-0 140,-0 140,-0 142.5,-0 142.5,-0 145,-0 145,-0 147.5,-0 147.5,-0 150,-0 150,-0 152.5,-0 152.5,-0 155,-0 155,-0 157.5,-0 157.5,-0 160,-0 160,-0 162.5,-0 162.5,-0 165,-0 165,-0 167.5,-0 167.5,-0 170,-0 170,-0 172.5,-0 172.5,-0 175,-0 175,-0 177.5,-0 177.5,-0 180,-0 180,-0 182.5,-0 182.5,-0 185,-0 185,-0 187.5,-0 187.5,-0 190,-0 190,-0 192.5,-0 192.5,-0 195,-0 195,-0 197.5,-0 197.5,-0 200,-0 200,-0 202.5,-0 202.5,-0 205,-0 205,-0 207.5,-0 207.5,-0 210,-0 210,-0 212.5,-0 212.5,-0 215,-0 215,-0 217.5,-0 217.5,-0 220,-0 220,-0 222.5,-0 222.5,-0 225,-0 225,-0 227.5,-0 227.5,-0 230,-0 230,-0 232.5,-0 232.5,-0 235,-0 235,-0 237.5,-0 237.5,-0 240,-0 240,-0 242.5,-0 242.5,-0 245,-0 245,-0 247.5,-0 247.5,-0 250,-0 250,0\" style=\"fill:none; stroke:currentColor;\"/>\n",
       "</svg>\n",
       "</div>\n",
       "<div style=\"flex=grow:1;\">\n",
       "Regular(100, 0, 10, name='xaxis', label='Global #sigma_{R} [cm]')<br/>\n",
       "<hr style=\"margin-top:.2em; margin-bottom:.2em;\"/>\n",
       "Double() Σ=0.0\n",
       "\n",
       "</div>\n",
       "</div>\n",
       "</html>"
      ],
      "text/plain": [
       "Hist(Regular(100, 0, 10, name='xaxis', label='Global #sigma_{R} [cm]'), storage=Double())"
      ]
     },
     "execution_count": 33,
     "metadata": {},
     "output_type": "execute_result"
    }
   ],
   "source": [
    "sta_dir['Misc/prop_err_r_GE11-P'].to_hist()"
   ]
  },
  {
   "cell_type": "code",
   "execution_count": 10,
   "metadata": {},
   "outputs": [
    {
     "name": "stderr",
     "output_type": "stream",
     "text": [
      "Error in <TAxis::SetBinLabel>: Illegal bin number: 0\n",
      "Error in <TAxis::SetBinLabel>: Illegal bin number: 0\n",
      "Error in <TAxis::SetBinLabel>: Illegal bin number: 0\n",
      "Error in <TAxis::SetBinLabel>: Illegal bin number: 101\n",
      "Error in <TAxis::SetBinLabel>: Illegal bin number: 101\n",
      "Error in <TAxis::SetBinLabel>: Illegal bin number: 101\n",
      "Error in <TAxis::SetBinLabel>: Illegal bin number: 101\n",
      "Error in <TAxis::SetBinLabel>: Illegal bin number: 101\n",
      "Error in <TAxis::SetBinLabel>: Illegal bin number: 101\n",
      "Error in <TAxis::SetBinLabel>: Illegal bin number: 101\n",
      "Error in <TAxis::SetBinLabel>: Illegal bin number: 101\n",
      "Error in <TAxis::SetBinLabel>: Illegal bin number: 101\n",
      "Error in <TAxis::SetBinLabel>: Illegal bin number: 101\n",
      "Error in <TAxis::SetBinLabel>: Illegal bin number: 101\n",
      "Error in <TAxis::SetBinLabel>: Illegal bin number: 101\n",
      "Error in <TAxis::SetBinLabel>: Illegal bin number: 101\n",
      "Error in <TAxis::SetBinLabel>: Illegal bin number: 101\n",
      "Error in <TAxis::SetBinLabel>: Illegal bin number: 101\n",
      "Error in <TAxis::SetBinLabel>: Illegal bin number: 101\n",
      "Error in <TAxis::SetBinLabel>: Illegal bin number: 0\n",
      "Error in <TAxis::SetBinLabel>: Illegal bin number: 0\n",
      "Error in <TAxis::SetBinLabel>: Illegal bin number: 0\n",
      "Error in <TAxis::SetBinLabel>: Illegal bin number: 101\n",
      "Error in <TAxis::SetBinLabel>: Illegal bin number: 101\n",
      "Error in <TAxis::SetBinLabel>: Illegal bin number: 101\n",
      "Error in <TAxis::SetBinLabel>: Illegal bin number: 101\n",
      "Error in <TAxis::SetBinLabel>: Illegal bin number: 101\n",
      "Error in <TAxis::SetBinLabel>: Illegal bin number: 101\n",
      "Error in <TAxis::SetBinLabel>: Illegal bin number: 101\n",
      "Error in <TAxis::SetBinLabel>: Illegal bin number: 101\n",
      "Error in <TAxis::SetBinLabel>: Illegal bin number: 101\n",
      "Error in <TAxis::SetBinLabel>: Illegal bin number: 101\n",
      "Error in <TAxis::SetBinLabel>: Illegal bin number: 101\n",
      "Error in <TAxis::SetBinLabel>: Illegal bin number: 101\n",
      "Error in <TAxis::SetBinLabel>: Illegal bin number: 101\n",
      "Error in <TAxis::SetBinLabel>: Illegal bin number: 101\n",
      "Error in <TAxis::SetBinLabel>: Illegal bin number: 101\n",
      "Error in <TAxis::SetBinLabel>: Illegal bin number: 101\n"
     ]
    },
    {
     "data": {
      "image/png": "[encoded data removed]",
      "text/plain": [
       "<IPython.core.display.Image object>"
      ]
     },
     "metadata": {},
     "output_type": "display_data"
    }
   ],
   "source": [
    "canvas = ROOT.TCanvas(f\"c-{uuid.uuid4()}\", \"\", 1600, 1500)\n",
    "canvas.Divide(3, 3)\n",
    "\n",
    "###############################################################################\n",
    "trk_pad = canvas.cd(1)\n",
    "trk_eff = make_eff(trk_dir, 'Misc/prop_err_r_GE11-P')\n",
    "trk_eff.Draw()\n",
    "add_line(trk_pad, trk_eff)\n",
    "\n",
    "sta_pad = canvas.cd(2)\n",
    "sta_eff = make_eff(sta_dir, 'Misc/prop_err_r_GE11-P')\n",
    "sta_eff.Draw()\n",
    "add_line(sta_pad, sta_eff)\n",
    "\n",
    "glb_pad = canvas.cd(3)\n",
    "glb_eff = make_eff(glb_dir, 'Misc/prop_err_r_GE11-P')\n",
    "glb_eff.Draw()\n",
    "add_line(glb_pad, glb_eff)\n",
    "\n",
    "###############################################################################\n",
    "trk_pad = canvas.cd(4)\n",
    "trk_eff = make_eff(trk_dir, 'Misc/prop_err_phi_GE11-P')\n",
    "trk_eff.Draw()\n",
    "add_line(trk_pad, trk_eff)\n",
    "\n",
    "sta_pad = canvas.cd(5)\n",
    "sta_eff = make_eff(sta_dir, 'Misc/prop_err_phi_GE11-P')\n",
    "sta_eff.Draw()\n",
    "add_line(sta_pad, sta_eff)\n",
    "\n",
    "glb_pad = canvas.cd(6)\n",
    "glb_eff = make_eff(glb_dir, 'Misc/prop_err_phi_GE11-P')\n",
    "glb_eff.Draw()\n",
    "add_line(glb_pad, glb_eff)\n",
    "\n",
    "###############################################################################\n",
    "trk_pad = canvas.cd(7)\n",
    "trk_eff = make_eff(trk_dir, 'Misc/start_det_GE11-P')\n",
    "trk_eff.Draw()\n",
    "add_line(trk_pad, trk_eff)\n",
    "\n",
    "sta_pad = canvas.cd(8)\n",
    "sta_eff = make_eff(sta_dir, 'Misc/start_det_GE11-P')\n",
    "sta_eff.Draw()\n",
    "add_line(sta_pad, sta_eff)\n",
    "\n",
    "glb_pad = canvas.cd(9)\n",
    "glb_eff = make_eff(glb_dir, 'Misc/start_det_GE11-P')\n",
    "glb_eff.Draw()\n",
    "add_line(glb_pad, glb_eff)\n",
    "\n",
    "###############################################################################\n",
    "canvas.Draw()"
   ]
  },
  {
   "cell_type": "code",
   "execution_count": null,
   "metadata": {},
   "outputs": [],
   "source": [
    "canvas = ROOT.TCanvas(f\"c-{uuid.uuid4()}\", \"\", 1600, 1000)\n",
    "canvas.Divide(3, 2)\n",
    "\n",
    "###############################################################################\n",
    "top_key = 'Efficiency/chamber_GE11-P-L1'\n",
    "\n",
    "trk_pad = canvas.cd(1)\n",
    "trk_eff = make_eff(trk_dir, top_key)\n",
    "trk_eff.Draw()\n",
    "add_line(trk_pad, trk_eff)\n",
    "\n",
    "sta_pad = canvas.cd(2)\n",
    "sta_eff = make_eff(sta_dir, top_key)\n",
    "sta_eff.Draw()\n",
    "add_line(sta_pad, sta_eff)\n",
    "\n",
    "glb_pad = canvas.cd(3)\n",
    "glb_eff = make_eff(glb_dir, top_key)\n",
    "glb_eff.Draw()\n",
    "add_line(glb_pad, glb_eff)\n",
    "\n",
    "###############################################################################\n",
    "bottom_key = 'Efficiency/muon_eta_GE11-P'\n",
    "\n",
    "trk_pad = canvas.cd(4)\n",
    "trk_eff = make_eff(trk_dir, bottom_key)\n",
    "trk_eff.Draw()\n",
    "add_line(trk_pad, trk_eff)\n",
    "\n",
    "sta_pad = canvas.cd(5)\n",
    "sta_eff = make_eff(sta_dir, bottom_key)\n",
    "sta_eff.Draw()\n",
    "add_line(sta_pad, sta_eff)\n",
    "\n",
    "glb_pad = canvas.cd(6)\n",
    "glb_eff = make_eff(glb_dir, bottom_key)\n",
    "glb_eff.Draw()\n",
    "add_line(glb_pad, glb_eff)\n",
    "\n",
    "###############################################################################\n",
    "canvas.Draw()"
   ]
  },
  {
   "cell_type": "code",
   "execution_count": 19,
   "metadata": {},
   "outputs": [],
   "source": []
  },
  {
   "cell_type": "code",
   "execution_count": 19,
   "metadata": {},
   "outputs": [],
   "source": []
  },
  {
   "cell_type": "code",
   "execution_count": null,
   "metadata": {},
   "outputs": [],
   "source": []
  },
  {
   "cell_type": "code",
   "execution_count": null,
   "metadata": {},
   "outputs": [],
   "source": []
  }
 ],
 "metadata": {
  "kernelspec": {
   "display_name": "Python 3",
   "language": "python",
   "name": "python3"
  },
  "language_info": {
   "codemirror_mode": {
    "name": "ipython",
    "version": 3
   },
   "file_extension": ".py",
   "mimetype": "text/x-python",
   "name": "python",
   "nbconvert_exporter": "python",
   "pygments_lexer": "ipython3",
   "version": "3.6.8"
  }
 },
 "nbformat": 4,
 "nbformat_minor": 4
}
