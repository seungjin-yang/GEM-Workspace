{
 "cells": [
  {
   "cell_type": "code",
   "execution_count": 1,
   "metadata": {},
   "outputs": [],
   "source": [
    "import ROOT\n",
    "from ROOT import gStyle, gPad\n",
    "import uuid"
   ]
  },
  {
   "cell_type": "code",
   "execution_count": 2,
   "metadata": {},
   "outputs": [],
   "source": [
    "class Canvas:\n",
    "    def __init__(self, height=500, width=500, nx=1, ny=1):\n",
    "        self.canvas = ROOT.TCanvas(f'c-{uuid.uuid4()}', '', width, height)\n",
    "        if nx > 1 or ny > 1:\n",
    "            self.canvas.Divide(nx, ny)\n",
    "\n",
    "    def __enter__(self):\n",
    "        return self.canvas\n",
    "\n",
    "    def __exit__(self, type, value, trace_back):\n",
    "        self.canvas.Draw()"
   ]
  },
  {
   "cell_type": "code",
   "execution_count": 4,
   "metadata": {},
   "outputs": [],
   "source": [
    "gStyle.SetOptStat(0)\n",
    "\n",
    "path = './DQM_V0001_R000000001__Global__CMSSW_X_Y_Z__RECO.root'\n",
    "\n",
    "root_file = ROOT.TFile(path)\n",
    "\n",
    "eff_dir = root_file.Get('DQMData/Run 1/GEM/Run summary/Efficiency/STAMuon/Efficiency')\n",
    "misc_dir = root_file.Get('DQMData/Run 1/GEM/Run summary/Efficiency/STAMuon/Misc')"
   ]
  },
  {
   "cell_type": "code",
   "execution_count": 5,
   "metadata": {},
   "outputs": [
    {
     "name": "stdout",
     "output_type": "stream",
     "text": [
      "TDirectoryFile*\t\tMisc\tMisc\n",
      " KEY: TH1F\tall_abs_rdphi;1\t\n",
      " KEY: TH1F\thas_inner_track;1\t\n",
      " KEY: TH1F\thas_inner_track_matched;1\t\n",
      " KEY: TH1F\tprop_chamber_GE11-M;1\t GE11-M\n",
      " KEY: TH1F\tprop_chamber_GE11-P;1\t GE11-P\n",
      " KEY: TH1F\tprop_err_phi_GE11-M;1\t GE11-M\n",
      " KEY: TH1F\tprop_err_phi_GE11-M_matched;1\t GE11-M\n",
      " KEY: TH1F\tprop_err_phi_GE11-P;1\t GE11-P\n",
      " KEY: TH1F\tprop_err_phi_GE11-P_matched;1\t GE11-P\n",
      " KEY: TH1F\tprop_err_r_GE11-M;1\t GE11-M\n",
      " KEY: TH1F\tprop_err_r_GE11-M_matched;1\t GE11-M\n",
      " KEY: TH1F\tprop_err_r_GE11-P;1\t GE11-P\n",
      " KEY: TH1F\tprop_err_r_GE11-P_matched;1\t GE11-P\n",
      " KEY: TH1F\tprop_path_length_GE11-M;1\t GE11-M\n",
      " KEY: TH1F\tprop_path_length_GE11-P;1\t GE11-P\n",
      " KEY: TH1F\tstart_det_GE11-M;1\t GE11-M\n",
      " KEY: TH1F\tstart_det_GE11-M_matched;1\t GE11-M\n",
      " KEY: TH1F\tstart_det_GE11-P;1\t GE11-P\n",
      " KEY: TH1F\tstart_det_GE11-P_matched;1\t GE11-P\n"
     ]
    }
   ],
   "source": [
    "misc_dir.ls()"
   ]
  },
  {
   "cell_type": "code",
   "execution_count": null,
   "metadata": {},
   "outputs": [],
   "source": []
  }
 ],
 "metadata": {
  "kernelspec": {
   "display_name": "Python 3",
   "language": "python",
   "name": "python3"
  },
  "language_info": {
   "codemirror_mode": {
    "name": "ipython",
    "version": 3
   },
   "file_extension": ".py",
   "mimetype": "text/x-python",
   "name": "python",
   "nbconvert_exporter": "python",
   "pygments_lexer": "ipython3",
   "version": "3.6.8"
  }
 },
 "nbformat": 4,
 "nbformat_minor": 4
}
