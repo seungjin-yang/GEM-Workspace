{
 "cells": [
  {
   "cell_type": "code",
   "execution_count": 1,
   "metadata": {},
   "outputs": [
    {
     "name": "stderr",
     "output_type": "stream",
     "text": [
      "/usr/local/lib/python3.6/site-packages/uproot/reading.py:186: FutureWarning: XRootD 5.0.2 is not fully supported; either upgrade to 5.2.0+ or set\n",
      "\n",
      "    open.defaults[\"xrootd_handler\"] = uproot.MultithreadedXRootDSource\n",
      "\n",
      "  warnings.warn(message, FutureWarning)\n"
     ]
    }
   ],
   "source": [
    "from pathlib import Path\n",
    "import uproot"
   ]
  },
  {
   "cell_type": "code",
   "execution_count": 2,
   "metadata": {},
   "outputs": [
    {
     "data": {
      "text/plain": [
       "<generator object Path.glob at 0x7f6b5ced3e60>"
      ]
     },
     "execution_count": 2,
     "metadata": {},
     "output_type": "execute_result"
    }
   ],
   "source": [
    "Path.cwd().glob('*/DQM_V0001_R000000001__Global__CMSSW_X_Y_Z__RECO.root')"
   ]
  },
  {
   "cell_type": "code",
   "execution_count": 3,
   "metadata": {},
   "outputs": [
    {
     "name": "stdout",
     "output_type": "stream",
     "text": [
      "11650.0_ZMM_14+2021+ZMM_14TeV_TuneCP5_GenSim+Digi+RecoNano+HARVESTNano+ALCA\n",
      "['Digis;1', 'Efficiency;1', 'EventInfo;1', 'Pad;1', 'PadCluster;1', 'RecHits;1', 'SimHits;1']\n",
      "\n",
      "35054.0_CosmicsSPLoose+2026D77+UndergroundCosmicSPLooseMu_GenSimHLBeamSpot+DigiTrigger+RecoGlobal+HARVESTGlobal\n",
      "['Digis;1', 'Efficiency;1', 'EventInfo;1', 'Pad;1', 'PadCluster;1', 'RecHits;1', 'SimHits;1']\n",
      "\n",
      "35050.0_ZMM_14+2026D77+ZMM_14TeV_TuneCP5_GenSimHLBeamSpot14+DigiTrigger+RecoGlobal+HARVESTGlobal\n",
      "['Digis;1', 'Efficiency;1', 'EventInfo;1', 'Pad;1', 'PadCluster;1', 'RecHits;1', 'SimHits;1']\n",
      "\n",
      "11654.0_CosmicsSPLoose+2021+UndergroundCosmicSPLooseMu_GenSim+Digi+RecoNano+HARVESTNano+ALCA\n",
      "['Digis;1', 'Efficiency;1', 'EventInfo;1', 'Pad;1', 'PadCluster;1', 'RecHits;1', 'SimHits;1']\n",
      "\n"
     ]
    }
   ],
   "source": [
    "for path in Path.cwd().glob('*/DQM_V0001_R000000001__Global__CMSSW_X_Y_Z__RECO.root'):\n",
    "    print(path.parent.name)\n",
    "    root_file = uproot.open(path)\n",
    "    gem_dir = root_file['DQMData/Run 1/GEM/Run summary']\n",
    "    print(gem_dir.keys(recursive=False))\n",
    "    print()"
   ]
  },
  {
   "cell_type": "code",
   "execution_count": null,
   "metadata": {},
   "outputs": [],
   "source": []
  },
  {
   "cell_type": "code",
   "execution_count": null,
   "metadata": {},
   "outputs": [],
   "source": []
  }
 ],
 "metadata": {
  "kernelspec": {
   "display_name": "Python 3",
   "language": "python",
   "name": "python3"
  },
  "language_info": {
   "codemirror_mode": {
    "name": "ipython",
    "version": 3
   },
   "file_extension": ".py",
   "mimetype": "text/x-python",
   "name": "python",
   "nbconvert_exporter": "python",
   "pygments_lexer": "ipython3",
   "version": "3.6.8"
  }
 },
 "nbformat": 4,
 "nbformat_minor": 4
}
